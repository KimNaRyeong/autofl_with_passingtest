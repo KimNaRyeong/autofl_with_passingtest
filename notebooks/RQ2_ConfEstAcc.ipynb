{
 "cells": [
  {
   "cell_type": "code",
   "execution_count": 1,
   "metadata": {},
   "outputs": [],
   "source": [
    "%matplotlib inline\n",
    "\n",
    "import json\n",
    "import os\n",
    "import pandas as pd\n",
    "import matplotlib.pyplot as plt\n",
    "import numpy as np\n",
    "from copy import deepcopy"
   ]
  },
  {
   "cell_type": "code",
   "execution_count": 2,
   "metadata": {},
   "outputs": [],
   "source": [
    "plt.style.use('../style/style-formal.mplstyle')"
   ]
  },
  {
   "cell_type": "code",
   "execution_count": 6,
   "metadata": {},
   "outputs": [],
   "source": [
    "def create_FL_dataframe(score_file):\n",
    "    with open(score_file, 'r') as f:\n",
    "        data = json.load(f)\n",
    "\n",
    "    rows = []\n",
    "    buggy_method_ranks = data[\"buggy_methods\"]\n",
    "    for bug_name in buggy_method_ranks:\n",
    "        autofl_ranks = [\n",
    "            buggy_method_ranks[bug_name][m][\"autofl_ranks\"]\n",
    "            for m in buggy_method_ranks[bug_name]\n",
    "        ]\n",
    "        if len(autofl_ranks) == 0:\n",
    "            continue\n",
    "        AP = np.mean([(i+1)/r for i, r in enumerate(sorted(autofl_ranks))])\n",
    "        if AP > 1:\n",
    "            print(autofl_ranks)\n",
    "            print(AP)\n",
    "        rows.append([bug_name, data[\"confidence\"][bug_name]] \\\n",
    "                    + [1 in autofl_ranks, 1/min(autofl_ranks), AP])\n",
    "\n",
    "    df = pd.DataFrame(\n",
    "        data=rows,\n",
    "        columns=[\"bug_name\", \"confidence\"] \\\n",
    "            + [\"P@1\", \"RR\", \"AP\"])\n",
    "    return df\n",
    "\n",
    "def spearmanr_corr_with_confidence(df):\n",
    "    from scipy.stats import spearmanr\n",
    "    metrics = [\"P@1\", \"RR\", \"AP\"]\n",
    "    corr_df = pd.DataFrame(data=[\n",
    "        (m, corr.statistic, corr.pvalue)\n",
    "        for m in metrics\n",
    "        if (corr := spearmanr(df[\"confidence\"], df[m]))\n",
    "    ], columns=[\"metric\", \"spearman correlation coefficient\", \"p-value\"])\n",
    "    return corr_df\n",
    "\n",
    "def draw_metric_distributions(df, metrics=[\"P@1\", \"RR\", \"AP\"],\n",
    "                              confidence_col=\"confidence\", savepath=None):\n",
    "    plt.figure(figsize=(9, 2))\n",
    "    for i, m in enumerate(metrics):\n",
    "        plt.subplot(1, len(metrics), i+1)\n",
    "        threshold_ranges = [\n",
    "            (0.0, 0.2), (0.2, 0.4), (0.4, 0.6), (0.6, 0.8), (0.8, 1.0)\n",
    "        ]\n",
    "        if m == \"P@1\":\n",
    "            vi = plt.bar(range(1, len(threshold_ranges)+1), [\n",
    "                    df[(df[confidence_col] >= r[0]) & (df[confidence_col] < r[1])][m].mean() if r[1] != 1.0\n",
    "                    else df[(df[confidence_col] >= r[0]) & (df[confidence_col] <= r[1])][m].mean()\n",
    "                    for r in threshold_ranges\n",
    "                ])\n",
    "            plt.title(f\"Ratio of {m}\")\n",
    "        else:\n",
    "            vi = plt.violinplot([\n",
    "                    df[(df[confidence_col] >= r[0]) & (df[confidence_col] < r[1])][m] if r[1] != 1.0\n",
    "                    else df[(df[confidence_col] >= r[0]) & (df[confidence_col] <= r[1])][m]\n",
    "                    for r in threshold_ranges\n",
    "                ],\n",
    "                showmeans=True, showextrema=False)\n",
    "\n",
    "            plt.title(f\"Distributions of {m}\")\n",
    "\n",
    "            for partname in ('cbars','cmins','cmaxes','cmeans','cmedians'):\n",
    "                if partname not in vi:\n",
    "                    continue\n",
    "                vp = vi[partname]\n",
    "                vp.set_linewidth(1)\n",
    "        plt.ylim([0, 1])\n",
    "        plt.ylabel(None)\n",
    "        plt.xticks(range(1, len(threshold_ranges) +1),\n",
    "                [f\"[{r[0]}, {r[1]}\" + (\")\" if r[1] != 1 else \"]\") for r in threshold_ranges],\n",
    "                rotation=45)\n",
    "\n",
    "    if savepath:\n",
    "        plt.savefig(savepath, bbox_inches=\"tight\")\n",
    "    plt.show()\n",
    "\n",
    "def draw_PR_curve(dfs, showF1=True, savepath=None, figsize=(7,3), title=\"Precision-Recall Curve for Precision@1 Prediction\"):\n",
    "    from sklearn.metrics import precision_recall_curve, auc\n",
    "    if not isinstance(dfs, dict):\n",
    "        dfs = {\"original\": dfs}\n",
    "    plt.figure(figsize=figsize)\n",
    "    markers = ['o', 'v', '^', '<', '>', '8', 's']\n",
    "    for i, name in enumerate(dfs):\n",
    "        df = dfs[name]\n",
    "        precision, recall, thresholds = precision_recall_curve(df[\"P@1\"], df[\"confidence\"])\n",
    "        f1 = 2 * (precision * recall) / (precision + recall)\n",
    "        best_f1_idx = f1.argmax()\n",
    "        auc_value = auc(recall, precision)\n",
    "        plt.plot(recall, precision, label=f\"{name} (AUC={auc_value:.3f})\")\n",
    "        if showF1:\n",
    "            plt.scatter(recall[best_f1_idx], precision[best_f1_idx], zorder=100,\n",
    "                        label=f\"best f1={f1[best_f1_idx]:.2f} (thresh.={thresholds[best_f1_idx]:.2f})\",\n",
    "                        marker=markers[i])\n",
    "\n",
    "    if title is not None:\n",
    "        plt.title(title)\n",
    "    plt.xlabel(\"Recall\")\n",
    "    plt.ylabel(\"Precision\")\n",
    "    plt.legend()\n",
    "    if savepath:\n",
    "        plt.savefig(savepath, bbox_inches=\"tight\")\n",
    "    plt.show()"
   ]
  },
  {
   "cell_type": "markdown",
   "metadata": {},
   "source": [
    "# RQ2: Accuracy of FL Confidence Estimation"
   ]
  },
  {
   "cell_type": "code",
   "execution_count": 7,
   "metadata": {},
   "outputs": [
    {
     "ename": "KeyError",
     "evalue": "'org.jfree.chart.renderer.category.AbstractCategoryItemRenderer.getLegendItems()'",
     "output_type": "error",
     "traceback": [
      "\u001b[0;31m---------------------------------------------------------------------------\u001b[0m",
      "\u001b[0;31mKeyError\u001b[0m                                  Traceback (most recent call last)",
      "Cell \u001b[0;32mIn[7], line 2\u001b[0m\n\u001b[1;32m      1\u001b[0m \u001b[39m# Defects4J\u001b[39;00m\n\u001b[0;32m----> 2\u001b[0m D4J_df \u001b[39m=\u001b[39m create_FL_dataframe(\u001b[39m\"\u001b[39;49m\u001b[39m../combined_fl_results/d4j_gpt3_results_R5.json\u001b[39;49m\u001b[39m\"\u001b[39;49m)\n\u001b[1;32m      3\u001b[0m D4J_corr_df \u001b[39m=\u001b[39m spearmanr_corr_with_confidence(D4J_df)\n\u001b[1;32m      4\u001b[0m display(D4J_corr_df\u001b[39m.\u001b[39mround(\u001b[39m2\u001b[39m))\n",
      "Cell \u001b[0;32mIn[6], line 8\u001b[0m, in \u001b[0;36mcreate_FL_dataframe\u001b[0;34m(score_file)\u001b[0m\n\u001b[1;32m      6\u001b[0m buggy_method_ranks \u001b[39m=\u001b[39m data[\u001b[39m\"\u001b[39m\u001b[39mbuggy_methods\u001b[39m\u001b[39m\"\u001b[39m]\n\u001b[1;32m      7\u001b[0m \u001b[39mfor\u001b[39;00m bug_name \u001b[39min\u001b[39;00m buggy_method_ranks:\n\u001b[0;32m----> 8\u001b[0m     autofl_ranks \u001b[39m=\u001b[39m [buggy_method_ranks[m][\u001b[39m\"\u001b[39;49m\u001b[39mautofl_ranks\u001b[39;49m\u001b[39m\"\u001b[39;49m] \u001b[39mfor\u001b[39;49;00m m \u001b[39min\u001b[39;49;00m buggy_method_ranks[bug_name]]\n\u001b[1;32m      9\u001b[0m     \u001b[39mif\u001b[39;00m \u001b[39mlen\u001b[39m(autofl_ranks) \u001b[39m==\u001b[39m \u001b[39m0\u001b[39m:\n\u001b[1;32m     10\u001b[0m         \u001b[39mcontinue\u001b[39;00m\n",
      "Cell \u001b[0;32mIn[6], line 8\u001b[0m, in \u001b[0;36m<listcomp>\u001b[0;34m(.0)\u001b[0m\n\u001b[1;32m      6\u001b[0m buggy_method_ranks \u001b[39m=\u001b[39m data[\u001b[39m\"\u001b[39m\u001b[39mbuggy_methods\u001b[39m\u001b[39m\"\u001b[39m]\n\u001b[1;32m      7\u001b[0m \u001b[39mfor\u001b[39;00m bug_name \u001b[39min\u001b[39;00m buggy_method_ranks:\n\u001b[0;32m----> 8\u001b[0m     autofl_ranks \u001b[39m=\u001b[39m [buggy_method_ranks[m][\u001b[39m\"\u001b[39m\u001b[39mautofl_ranks\u001b[39m\u001b[39m\"\u001b[39m] \u001b[39mfor\u001b[39;00m m \u001b[39min\u001b[39;00m buggy_method_ranks[bug_name]]\n\u001b[1;32m      9\u001b[0m     \u001b[39mif\u001b[39;00m \u001b[39mlen\u001b[39m(autofl_ranks) \u001b[39m==\u001b[39m \u001b[39m0\u001b[39m:\n\u001b[1;32m     10\u001b[0m         \u001b[39mcontinue\u001b[39;00m\n",
      "\u001b[0;31mKeyError\u001b[0m: 'org.jfree.chart.renderer.category.AbstractCategoryItemRenderer.getLegendItems()'"
     ]
    }
   ],
   "source": [
    "# Defects4J\n",
    "D4J_df = create_FL_dataframe(\"../combined_fl_results/d4j_gpt3_results_R5.json\")\n",
    "D4J_corr_df = spearmanr_corr_with_confidence(D4J_df)\n",
    "display(D4J_corr_df.round(2))\n",
    "draw_PR_curve(D4J_df)\n",
    "draw_metric_distributions(D4J_df, savepath=\"./figures/RQ2_D4J_conf_distributions.pdf\")"
   ]
  },
  {
   "cell_type": "code",
   "execution_count": 8,
   "metadata": {},
   "outputs": [
    {
     "ename": "KeyError",
     "evalue": "'pysnooper.pysnooper.get_write_function(output)'",
     "output_type": "error",
     "traceback": [
      "\u001b[0;31m---------------------------------------------------------------------------\u001b[0m",
      "\u001b[0;31mKeyError\u001b[0m                                  Traceback (most recent call last)",
      "Cell \u001b[0;32mIn[8], line 2\u001b[0m\n\u001b[1;32m      1\u001b[0m \u001b[39m#BugsInPy\u001b[39;00m\n\u001b[0;32m----> 2\u001b[0m BIP_df \u001b[39m=\u001b[39m create_FL_dataframe(\u001b[39m\"\u001b[39;49m\u001b[39m../combined_fl_results/bip_gpt3_results_R5.json\u001b[39;49m\u001b[39m\"\u001b[39;49m)\n\u001b[1;32m      3\u001b[0m BIP_corr_df \u001b[39m=\u001b[39m spearmanr_corr_with_confidence(BIP_df)\n\u001b[1;32m      4\u001b[0m display(BIP_corr_df\u001b[39m.\u001b[39mround(\u001b[39m2\u001b[39m))\n",
      "Cell \u001b[0;32mIn[6], line 8\u001b[0m, in \u001b[0;36mcreate_FL_dataframe\u001b[0;34m(score_file)\u001b[0m\n\u001b[1;32m      6\u001b[0m buggy_method_ranks \u001b[39m=\u001b[39m data[\u001b[39m\"\u001b[39m\u001b[39mbuggy_methods\u001b[39m\u001b[39m\"\u001b[39m]\n\u001b[1;32m      7\u001b[0m \u001b[39mfor\u001b[39;00m bug_name \u001b[39min\u001b[39;00m buggy_method_ranks:\n\u001b[0;32m----> 8\u001b[0m     autofl_ranks \u001b[39m=\u001b[39m [buggy_method_ranks[m][\u001b[39m\"\u001b[39;49m\u001b[39mautofl_ranks\u001b[39;49m\u001b[39m\"\u001b[39;49m] \u001b[39mfor\u001b[39;49;00m m \u001b[39min\u001b[39;49;00m buggy_method_ranks[bug_name]]\n\u001b[1;32m      9\u001b[0m     \u001b[39mif\u001b[39;00m \u001b[39mlen\u001b[39m(autofl_ranks) \u001b[39m==\u001b[39m \u001b[39m0\u001b[39m:\n\u001b[1;32m     10\u001b[0m         \u001b[39mcontinue\u001b[39;00m\n",
      "Cell \u001b[0;32mIn[6], line 8\u001b[0m, in \u001b[0;36m<listcomp>\u001b[0;34m(.0)\u001b[0m\n\u001b[1;32m      6\u001b[0m buggy_method_ranks \u001b[39m=\u001b[39m data[\u001b[39m\"\u001b[39m\u001b[39mbuggy_methods\u001b[39m\u001b[39m\"\u001b[39m]\n\u001b[1;32m      7\u001b[0m \u001b[39mfor\u001b[39;00m bug_name \u001b[39min\u001b[39;00m buggy_method_ranks:\n\u001b[0;32m----> 8\u001b[0m     autofl_ranks \u001b[39m=\u001b[39m [buggy_method_ranks[m][\u001b[39m\"\u001b[39m\u001b[39mautofl_ranks\u001b[39m\u001b[39m\"\u001b[39m] \u001b[39mfor\u001b[39;00m m \u001b[39min\u001b[39;00m buggy_method_ranks[bug_name]]\n\u001b[1;32m      9\u001b[0m     \u001b[39mif\u001b[39;00m \u001b[39mlen\u001b[39m(autofl_ranks) \u001b[39m==\u001b[39m \u001b[39m0\u001b[39m:\n\u001b[1;32m     10\u001b[0m         \u001b[39mcontinue\u001b[39;00m\n",
      "\u001b[0;31mKeyError\u001b[0m: 'pysnooper.pysnooper.get_write_function(output)'"
     ]
    }
   ],
   "source": [
    "#BugsInPy\n",
    "BIP_df = create_FL_dataframe(\"../combined_fl_results/bip_gpt3_results_R5.json\")\n",
    "BIP_corr_df = spearmanr_corr_with_confidence(BIP_df)\n",
    "display(BIP_corr_df.round(2))\n",
    "draw_PR_curve(BIP_df)\n",
    "draw_metric_distributions(BIP_df, savepath=\"./figures/RQ2_BIP_conf_distributions.pdf\")"
   ]
  },
  {
   "cell_type": "code",
   "execution_count": null,
   "metadata": {},
   "outputs": [],
   "source": []
  }
 ],
 "metadata": {
  "kernelspec": {
   "display_name": "Python 3",
   "language": "python",
   "name": "python3"
  },
  "language_info": {
   "codemirror_mode": {
    "name": "ipython",
    "version": 3
   },
   "file_extension": ".py",
   "mimetype": "text/x-python",
   "name": "python",
   "nbconvert_exporter": "python",
   "pygments_lexer": "ipython3",
   "version": "3.11.2"
  },
  "orig_nbformat": 4
 },
 "nbformat": 4,
 "nbformat_minor": 2
}
